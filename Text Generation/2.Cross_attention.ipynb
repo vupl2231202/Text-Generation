{
 "cells": [
  {
   "cell_type": "code",
   "execution_count": 1,
   "id": "e60e651c",
   "metadata": {},
   "outputs": [
    {
     "name": "stdout",
     "output_type": "stream",
     "text": [
      "(None, 4, 3)\n"
     ]
    }
   ],
   "source": [
    "import tensorflow as tf\n",
    "import numpy as np\n",
    "\n",
    "x = tf.keras.Input(shape=[4, 3])\n",
    "layer  = tf.keras.layers.MultiHeadAttention(num_heads=1, key_dim=2, use_bias=False)\n",
    "\n",
    "output_tensor = layer(x, x)\n",
    "print(output_tensor.shape)"
   ]
  },
  {
   "cell_type": "code",
   "execution_count": 2,
   "id": "c5e1a0a7",
   "metadata": {},
   "outputs": [],
   "source": [
    "q = np.array([[[ 0.4,  0.3 ]],\n",
    "              [[-0.1, -0.1]],\n",
    "              [[ 0.2, -0.1]]])\n",
    "k = np.array([[[ 0.1,  0.2 ]],\n",
    "              [[-0.3, -0.4]],\n",
    "              [[-0.1,  0.2]]])\n",
    "v = np.array([[[-0.2,  0.1 ]],\n",
    "              [[-0.4,  0.2]],\n",
    "              [[ 0.4, -0.6]]])\n",
    "o = np.array([[[ 0.1, -0.1,  0.6 ],\n",
    "               [ 0.9,  0.3,  0.1 ]]])\n",
    "\n",
    "layer.set_weights([q, k, v, o])"
   ]
  },
  {
   "cell_type": "code",
   "execution_count": null,
   "id": "649ff5cb",
   "metadata": {},
   "outputs": [],
   "source": []
  },
  {
   "cell_type": "code",
   "execution_count": 4,
   "id": "3638afc8",
   "metadata": {},
   "outputs": [
    {
     "name": "stdout",
     "output_type": "stream",
     "text": [
      "(1, 4, 3)\n",
      "tf.Tensor(\n",
      "[[[1. 3. 2.]\n",
      "  [6. 2. 1.]\n",
      "  [5. 8. 4.]\n",
      "  [7. 3. 4.]]], shape=(1, 4, 3), dtype=float64)\n"
     ]
    }
   ],
   "source": [
    "key_value = np.array([1., 3., 2., 6., 2., 1., 5., 8., 4., 7., 3., 4.])\n",
    "key_value = key_value.reshape((1, 4, 3))\n",
    "key_value = tf.convert_to_tensor(key_value)\n",
    "\n",
    "print(key_value.shape)\n",
    "print(key_value)"
   ]
  },
  {
   "cell_type": "code",
   "execution_count": 5,
   "id": "7889ce2e",
   "metadata": {},
   "outputs": [
    {
     "name": "stdout",
     "output_type": "stream",
     "text": [
      "(1, 4, 3)\n",
      "tf.Tensor(\n",
      "[[[1. 6. 6.]\n",
      "  [1. 2. 4.]\n",
      "  [3. 8. 2.]\n",
      "  [3. 6. 5.]]], shape=(1, 4, 3), dtype=float64)\n"
     ]
    }
   ],
   "source": [
    "query = np.array([1., 6., 6., 1., 2., 4., 3., 8., 2., 3., 6., 5.])\n",
    "query = query.reshape((1, 4, 3))\n",
    "query = tf.convert_to_tensor(query)\n",
    "\n",
    "print(query.shape)\n",
    "print(query)"
   ]
  },
  {
   "cell_type": "code",
   "execution_count": null,
   "id": "29679308",
   "metadata": {},
   "outputs": [],
   "source": []
  },
  {
   "cell_type": "code",
   "execution_count": 6,
   "id": "ff698ed3",
   "metadata": {},
   "outputs": [
    {
     "name": "stdout",
     "output_type": "stream",
     "text": [
      "(1, 4, 3)\n",
      "(1, 1, 4, 4)\n"
     ]
    }
   ],
   "source": [
    "output_tensor, weights = layer(key=key_value, value=key_value, query=query, return_attention_scores=True)\n",
    "print(output_tensor.shape)\n",
    "print(weights.shape)"
   ]
  },
  {
   "cell_type": "code",
   "execution_count": 7,
   "id": "e9ca4ac7",
   "metadata": {},
   "outputs": [
    {
     "name": "stdout",
     "output_type": "stream",
     "text": [
      "tf.Tensor(\n",
      "[[-0.39957035  0.05262335 -0.86507285]\n",
      " [-0.3857062   0.04718071 -0.819083  ]\n",
      " [-0.407583    0.04010282 -0.82246053]\n",
      " [-0.31891015  0.06590582 -0.79602516]], shape=(4, 3), dtype=float32)\n",
      "tf.Tensor(\n",
      "[[0.3307562  0.29122677 0.21947964 0.15853739]\n",
      " [0.25756186 0.37732145 0.1217204  0.24339637]\n",
      " [0.24064699 0.36782053 0.12205947 0.269473  ]\n",
      " [0.20629655 0.48195118 0.05307306 0.25867924]], shape=(4, 4), dtype=float32)\n"
     ]
    }
   ],
   "source": [
    "print(output_tensor[0])\n",
    "print(weights[0, 0])"
   ]
  },
  {
   "cell_type": "code",
   "execution_count": null,
   "id": "555310ac",
   "metadata": {},
   "outputs": [],
   "source": []
  },
  {
   "cell_type": "markdown",
   "id": "9ca42d39",
   "metadata": {},
   "source": [
    "## verify "
   ]
  },
  {
   "cell_type": "code",
   "execution_count": 10,
   "id": "c48ecbea",
   "metadata": {},
   "outputs": [
    {
     "name": "stdout",
     "output_type": "stream",
     "text": [
      "(4, 3)\n",
      "[[1. 3. 2.]\n",
      " [6. 2. 1.]\n",
      " [5. 8. 4.]\n",
      " [7. 3. 4.]]\n"
     ]
    }
   ],
   "source": [
    "key_value = np.array([1., 3., 2., 6., 2., 1., 5., 8., 4., 7., 3., 4.])\n",
    "key_value = key_value.reshape((4, 3))\n",
    "\n",
    "print(key_value.shape)\n",
    "print(key_value)"
   ]
  },
  {
   "cell_type": "code",
   "execution_count": 11,
   "id": "dfa04734",
   "metadata": {},
   "outputs": [
    {
     "name": "stdout",
     "output_type": "stream",
     "text": [
      "(4, 3)\n",
      "[[1. 6. 6.]\n",
      " [1. 2. 4.]\n",
      " [3. 8. 2.]\n",
      " [3. 6. 5.]]\n"
     ]
    }
   ],
   "source": [
    "query = np.array([1., 6., 6., 1., 2., 4., 3., 8., 2., 3., 6., 5.])\n",
    "query = query.reshape((4, 3))\n",
    "\n",
    "print(query.shape)\n",
    "print(query)"
   ]
  },
  {
   "cell_type": "code",
   "execution_count": null,
   "id": "69ccff2b",
   "metadata": {},
   "outputs": [],
   "source": []
  },
  {
   "cell_type": "code",
   "execution_count": 12,
   "id": "f66b8a3a",
   "metadata": {},
   "outputs": [
    {
     "name": "stdout",
     "output_type": "stream",
     "text": [
      "[[ 0.4  0.3]\n",
      " [-0.1 -0.1]\n",
      " [ 0.2 -0.1]]\n",
      "[[ 0.1  0.2]\n",
      " [-0.3 -0.4]\n",
      " [-0.1  0.2]]\n",
      "[[-0.2  0.1]\n",
      " [-0.4  0.2]\n",
      " [ 0.4 -0.6]]\n"
     ]
    }
   ],
   "source": [
    "W_Q = np.array([[[ 0.4,  0.3 ]],\n",
    "                [[-0.1, -0.1]],\n",
    "                [[ 0.2, -0.1]]])\n",
    "W_K = np.array([[[ 0.1,  0.2 ]],\n",
    "                [[-0.3, -0.4]],\n",
    "                [[-0.1,  0.2]]])\n",
    "W_V = np.array([[[-0.2,  0.1 ]],\n",
    "                [[-0.4,  0.2]],\n",
    "                [[ 0.4, -0.6]]])\n",
    "\n",
    "W_Q = W_Q.reshape((3, 2))\n",
    "W_K = W_K.reshape((3, 2))\n",
    "W_V = W_V.reshape((3, 2))\n",
    "\n",
    "print(W_Q)\n",
    "print(W_K)\n",
    "print(W_V)"
   ]
  },
  {
   "cell_type": "code",
   "execution_count": 13,
   "id": "b41f3e82",
   "metadata": {},
   "outputs": [
    {
     "name": "stdout",
     "output_type": "stream",
     "text": [
      "[[ 1.  -0.9]\n",
      " [ 1.  -0.3]\n",
      " [ 0.8 -0.1]\n",
      " [ 1.6 -0.2]]\n",
      "[[-1.  -0.6]\n",
      " [-0.1  0.6]\n",
      " [-2.3 -1.4]\n",
      " [-0.6  1. ]]\n",
      "[[-0.6 -0.5]\n",
      " [-1.6  0.4]\n",
      " [-2.6 -0.3]\n",
      " [-1.  -1.1]]\n"
     ]
    }
   ],
   "source": [
    "Q = np.dot(query, W_Q)\n",
    "K = np.dot(key_value, W_K)\n",
    "V = np.dot(key_value, W_V)\n",
    " \n",
    "print(Q)\n",
    "print(K)\n",
    "print(V)"
   ]
  },
  {
   "cell_type": "code",
   "execution_count": null,
   "id": "0308f159",
   "metadata": {},
   "outputs": [],
   "source": []
  },
  {
   "cell_type": "code",
   "execution_count": 15,
   "id": "d5f5ddeb",
   "metadata": {},
   "outputs": [
    {
     "name": "stdout",
     "output_type": "stream",
     "text": [
      "(4, 4)\n",
      "[[-0.32526912 -0.45254834 -0.73539105 -1.06066017]\n",
      " [-0.57982756 -0.1979899  -1.32936075 -0.6363961 ]\n",
      " [-0.52325902 -0.09899495 -1.20208153 -0.41012193]\n",
      " [-1.04651804 -0.1979899  -2.40416306 -0.82024387]]\n"
     ]
    }
   ],
   "source": [
    "def softmax(x):\n",
    "    max_x = x.max(axis=1)\n",
    "    max_x = max_x.reshape(max_x.shape[0], 1)\n",
    "    \n",
    "    e_x = np.exp(x-max_x)\n",
    "    \n",
    "    sum_e = e_x.sum(axis=1)    \n",
    "    sum_e = sum_e.reshape(sum_e.shape[0], 1)\n",
    "    \n",
    "    return e_x / sum_e\n",
    "\n",
    "buffer = np.dot(Q, K.T) / np.sqrt(2)\n",
    "print(buffer.shape)\n",
    "print(buffer)"
   ]
  },
  {
   "cell_type": "code",
   "execution_count": 16,
   "id": "33aae630",
   "metadata": {},
   "outputs": [
    {
     "name": "stdout",
     "output_type": "stream",
     "text": [
      "[[0.33075618 0.29122678 0.21947966 0.15853739]\n",
      " [0.25756182 0.37732143 0.1217204  0.24339636]\n",
      " [0.24064699 0.36782053 0.12205949 0.26947299]\n",
      " [0.20629654 0.48195116 0.05307307 0.25867923]]\n"
     ]
    }
   ],
   "source": [
    "alpha = softmax(buffer)\n",
    "print(alpha)"
   ]
  },
  {
   "cell_type": "code",
   "execution_count": 17,
   "id": "0f19ef0e",
   "metadata": {},
   "outputs": [
    {
     "name": "stdout",
     "output_type": "stream",
     "text": [
      "[[-1.39360105 -0.2891224 ]\n",
      " [-1.31812076 -0.28210445]\n",
      " [-1.31972871 -0.30623341]\n",
      " [-1.29156899 -0.21083688]]\n"
     ]
    }
   ],
   "source": [
    "context_vector = np.dot(alpha, V)\n",
    "print(context_vector)"
   ]
  },
  {
   "cell_type": "code",
   "execution_count": null,
   "id": "ff6f6391",
   "metadata": {},
   "outputs": [],
   "source": []
  },
  {
   "cell_type": "code",
   "execution_count": 18,
   "id": "756079c5",
   "metadata": {},
   "outputs": [
    {
     "name": "stdout",
     "output_type": "stream",
     "text": [
      "[[ 0.1 -0.1  0.6]\n",
      " [ 0.9  0.3  0.1]]\n"
     ]
    }
   ],
   "source": [
    "W_O = np.array([[[ 0.1, -0.1,  0.6 ],\n",
    "               [ 0.9,  0.3,  0.1 ]]])\n",
    "W_O = W_O.reshape((2, 3))\n",
    "print(W_O)"
   ]
  },
  {
   "cell_type": "code",
   "execution_count": 19,
   "id": "e94e86b6",
   "metadata": {},
   "outputs": [
    {
     "name": "stdout",
     "output_type": "stream",
     "text": [
      "[[-0.39957026  0.05262338 -0.86507287]\n",
      " [-0.38570608  0.04718074 -0.8190829 ]\n",
      " [-0.40758294  0.04010285 -0.82246057]\n",
      " [-0.31891009  0.06590583 -0.79602508]]\n"
     ]
    }
   ],
   "source": [
    "output = np.dot(context_vector, W_O)\n",
    "print(output)"
   ]
  },
  {
   "cell_type": "code",
   "execution_count": null,
   "id": "3b927eb5",
   "metadata": {},
   "outputs": [],
   "source": [
    "'''\n",
    "[[-0.39957035  0.05262335 -0.86507285]\n",
    " [-0.3857062   0.04718071 -0.819083  ]\n",
    " [-0.407583    0.04010282 -0.82246053]\n",
    " [-0.31891015  0.06590582 -0.79602516]]\n",
    "'''"
   ]
  },
  {
   "cell_type": "code",
   "execution_count": null,
   "id": "4ac18c1f",
   "metadata": {},
   "outputs": [],
   "source": []
  }
 ],
 "metadata": {
  "kernelspec": {
   "display_name": "Python 3 (ipykernel)",
   "language": "python",
   "name": "python3"
  },
  "language_info": {
   "codemirror_mode": {
    "name": "ipython",
    "version": 3
   },
   "file_extension": ".py",
   "mimetype": "text/x-python",
   "name": "python",
   "nbconvert_exporter": "python",
   "pygments_lexer": "ipython3",
   "version": "3.9.13"
  }
 },
 "nbformat": 4,
 "nbformat_minor": 5
}
