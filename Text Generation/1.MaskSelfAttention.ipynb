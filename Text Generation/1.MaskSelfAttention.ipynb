{
 "cells": [
  {
   "cell_type": "code",
   "execution_count": 1,
   "id": "f5c93b33",
   "metadata": {},
   "outputs": [],
   "source": [
    "import pathlib\n",
    "import random\n",
    "import string\n",
    "import re\n",
    "import numpy as np\n",
    "import tensorflow as tf\n",
    "from tensorflow import keras\n",
    "from tensorflow.keras import layers\n",
    "from tensorflow.keras.layers import TextVectorization"
   ]
  },
  {
   "cell_type": "code",
   "execution_count": 2,
   "id": "64a83312",
   "metadata": {},
   "outputs": [
    {
     "name": "stdout",
     "output_type": "stream",
     "text": [
      "(None, 4, 3)\n"
     ]
    }
   ],
   "source": [
    "x = tf.keras.Input(shape=[4, 3])\n",
    "layer  = tf.keras.layers.MultiHeadAttention(num_heads=1, key_dim=2, use_bias=False)\n",
    "\n",
    "output_tensor = layer(x, x)\n",
    "print(output_tensor.shape)"
   ]
  },
  {
   "cell_type": "code",
   "execution_count": 3,
   "id": "181ecf21",
   "metadata": {},
   "outputs": [],
   "source": [
    "q = np.array([[[ 0.4,  0.3 ]],\n",
    "              [[-0.1, -0.1]],\n",
    "              [[ 0.2, -0.1]]])\n",
    "k = np.array([[[ 0.1,  0.2 ]],\n",
    "              [[-0.3, -0.4]],\n",
    "              [[-0.1,  0.2]]])\n",
    "v = np.array([[[-0.2,  0.1 ]],\n",
    "              [[-0.4,  0.2]],\n",
    "              [[ 0.4, -0.6]]])\n",
    "o = np.array([[[ 0.1, -0.1,  0.6 ],\n",
    "               [ 0.9,  0.3,  0.1 ]]])\n",
    "\n",
    "layer.set_weights([q, k, v, o])"
   ]
  },
  {
   "cell_type": "code",
   "execution_count": 4,
   "id": "93c8f05a",
   "metadata": {},
   "outputs": [
    {
     "name": "stdout",
     "output_type": "stream",
     "text": [
      "(1, 4, 3)\n",
      "tf.Tensor(\n",
      "[[[1. 3. 2.]\n",
      "  [6. 2. 1.]\n",
      "  [5. 8. 4.]\n",
      "  [7. 3. 4.]]], shape=(1, 4, 3), dtype=float64)\n"
     ]
    }
   ],
   "source": [
    "data = np.array([1., 3., 2., 6., 2., 1., 5., 8., 4., 7., 3., 4.])\n",
    "data = data.reshape((1, 4, 3))\n",
    "data = tf.convert_to_tensor(data)\n",
    "\n",
    "print(data.shape)\n",
    "print(data)"
   ]
  },
  {
   "cell_type": "code",
   "execution_count": 11,
   "id": "9c9be699",
   "metadata": {},
   "outputs": [
    {
     "name": "stdout",
     "output_type": "stream",
     "text": [
      "(1, 4, 4)\n",
      "tf.Tensor(\n",
      "[[[1 0 0 0]\n",
      "  [1 1 0 0]\n",
      "  [1 1 1 0]\n",
      "  [1 1 1 1]]], shape=(1, 4, 4), dtype=int32)\n"
     ]
    }
   ],
   "source": [
    "def get_causal_attention_mask(batch_size, seq_length):\n",
    "    i = tf.range(seq_length)\n",
    "    i = tf.reshape(i, (seq_length, 1))    \n",
    "    j = tf.range(seq_length)\n",
    "    \n",
    "    mask = i >= j\n",
    "    mask = tf.reshape(mask, [1, seq_length, seq_length])\n",
    "    \n",
    "    mult = tf.convert_to_tensor([batch_size, 1, 1], dtype=tf.int32)\n",
    "    result = tf.tile(mask, mult)\n",
    "    result = tf.cast(result, dtype=tf.int32)\n",
    "    \n",
    "    return result\n",
    "\n",
    "mask = get_causal_attention_mask(1, 4)\n",
    "print(mask.shape)\n",
    "print(mask)"
   ]
  },
  {
   "cell_type": "code",
   "execution_count": null,
   "id": "0c9ff226",
   "metadata": {},
   "outputs": [],
   "source": []
  },
  {
   "cell_type": "code",
   "execution_count": null,
   "id": "a990cd8f",
   "metadata": {},
   "outputs": [],
   "source": []
  },
  {
   "cell_type": "code",
   "execution_count": null,
   "id": "e865084f",
   "metadata": {},
   "outputs": [],
   "source": []
  },
  {
   "cell_type": "code",
   "execution_count": 7,
   "id": "263b6b80",
   "metadata": {},
   "outputs": [
    {
     "name": "stdout",
     "output_type": "stream",
     "text": [
      "(1, 4, 3)\n",
      "(1, 1, 4, 4)\n"
     ]
    }
   ],
   "source": [
    "output_tensor, weights = layer(data, data, return_attention_scores=True, attention_mask=mask)\n",
    "print(output_tensor.shape)\n",
    "print(weights.shape)"
   ]
  },
  {
   "cell_type": "code",
   "execution_count": 8,
   "id": "06b179a2",
   "metadata": {},
   "outputs": [
    {
     "name": "stdout",
     "output_type": "stream",
     "text": [
      "tf.Tensor(\n",
      "[[-0.51       -0.09       -0.4100001 ]\n",
      " [ 0.15930527  0.2587929  -0.8907686 ]\n",
      " [ 0.05923991  0.2129699  -0.84682053]\n",
      " [-0.21573429  0.11351576 -0.8429406 ]], shape=(4, 3), dtype=float32)\n",
      "tf.Tensor(\n",
      "[[1.0000000e+00 0.0000000e+00 0.0000000e+00 0.0000000e+00]\n",
      " [5.7316449e-02 9.4268352e-01 0.0000000e+00 0.0000000e+00]\n",
      " [1.7421028e-01 8.0240512e-01 2.3384636e-02 0.0000000e+00]\n",
      " [2.4871059e-02 6.6630757e-01 5.4240436e-04 3.0827892e-01]], shape=(4, 4), dtype=float32)\n"
     ]
    }
   ],
   "source": [
    "print(output_tensor[0])\n",
    "print(weights[0, 0])"
   ]
  },
  {
   "cell_type": "code",
   "execution_count": null,
   "id": "4eca0bf5",
   "metadata": {},
   "outputs": [],
   "source": []
  },
  {
   "cell_type": "markdown",
   "id": "a6ffb30a",
   "metadata": {},
   "source": [
    "## verify"
   ]
  },
  {
   "cell_type": "code",
   "execution_count": 8,
   "id": "b146bec5",
   "metadata": {},
   "outputs": [
    {
     "name": "stdout",
     "output_type": "stream",
     "text": [
      "[[          0 -2147483648 -2147483648 -2147483648]\n",
      " [          0           0 -2147483648 -2147483648]\n",
      " [          0           0           0 -2147483648]\n",
      " [          0           0           0           0]]\n"
     ]
    }
   ],
   "source": [
    "def get_causal_attention_mask(bsize, seq_length):\n",
    "    i = tf.range(seq_length)[:, tf.newaxis]\n",
    "    j = tf.range(seq_length)\n",
    "    mask = tf.cast(j > i, dtype=\"int32\")\n",
    "    mask = tf.reshape(mask, (seq_length, seq_length))\n",
    "    mask = tf.cast(mask, dtype=tf.int32)\n",
    "    \n",
    "    return mask\n",
    "\n",
    "mask = get_causal_attention_mask(1, 4).numpy()\n",
    "mask[mask==1] = -2147483648\n",
    "print(mask)"
   ]
  },
  {
   "cell_type": "code",
   "execution_count": null,
   "id": "8b2cb132",
   "metadata": {},
   "outputs": [],
   "source": []
  },
  {
   "cell_type": "code",
   "execution_count": 9,
   "id": "e02c9924",
   "metadata": {},
   "outputs": [
    {
     "name": "stdout",
     "output_type": "stream",
     "text": [
      "(1, 4, 3)\n",
      "[[[1. 3. 2.]\n",
      "  [6. 2. 1.]\n",
      "  [5. 8. 4.]\n",
      "  [7. 3. 4.]]]\n"
     ]
    }
   ],
   "source": [
    "data = np.array([1., 3., 2., 6., 2., 1., 5., 8., 4., 7., 3., 4.])\n",
    "data = data.reshape((1, 4, 3))\n",
    "print(data.shape)\n",
    "print(data)"
   ]
  },
  {
   "cell_type": "code",
   "execution_count": 10,
   "id": "20cf2b2d",
   "metadata": {},
   "outputs": [
    {
     "name": "stdout",
     "output_type": "stream",
     "text": [
      "[[ 0.4  0.3]\n",
      " [-0.1 -0.1]\n",
      " [ 0.2 -0.1]]\n",
      "[[ 0.1  0.2]\n",
      " [-0.3 -0.4]\n",
      " [-0.1  0.2]]\n",
      "[[-0.2  0.1]\n",
      " [-0.4  0.2]\n",
      " [ 0.4 -0.6]]\n"
     ]
    }
   ],
   "source": [
    "import tensorflow as tf\n",
    "import numpy as np\n",
    "\n",
    "W_Q = np.array([[[ 0.4,  0.3 ]],\n",
    "                [[-0.1, -0.1]],\n",
    "                [[ 0.2, -0.1]]])\n",
    "W_K = np.array([[[ 0.1,  0.2 ]],\n",
    "                [[-0.3, -0.4]],\n",
    "                [[-0.1,  0.2]]])\n",
    "W_V = np.array([[[-0.2,  0.1 ]],\n",
    "                [[-0.4,  0.2]],\n",
    "                [[ 0.4, -0.6]]])\n",
    "\n",
    "W_Q = W_Q.reshape((3, 2))\n",
    "W_K = W_K.reshape((3, 2))\n",
    "W_V = W_V.reshape((3, 2))\n",
    "\n",
    "print(W_Q)\n",
    "print(W_K)\n",
    "print(W_V)"
   ]
  },
  {
   "cell_type": "code",
   "execution_count": 11,
   "id": "889e8434",
   "metadata": {},
   "outputs": [
    {
     "name": "stdout",
     "output_type": "stream",
     "text": [
      "(4, 3)\n",
      "(4, 4)\n"
     ]
    }
   ],
   "source": [
    "data = data.reshape((4, 3))\n",
    "print(data.shape)\n",
    "\n",
    "mask = mask.reshape((4, 4))\n",
    "print(mask.shape)"
   ]
  },
  {
   "cell_type": "code",
   "execution_count": 12,
   "id": "f742eb99",
   "metadata": {},
   "outputs": [
    {
     "name": "stdout",
     "output_type": "stream",
     "text": [
      "[[ 0.5 -0.2]\n",
      " [ 2.4  1.5]\n",
      " [ 2.   0.3]\n",
      " [ 3.3  1.4]]\n",
      "[[-1.  -0.6]\n",
      " [-0.1  0.6]\n",
      " [-2.3 -1.4]\n",
      " [-0.6  1. ]]\n",
      "[[-0.6 -0.5]\n",
      " [-1.6  0.4]\n",
      " [-2.6 -0.3]\n",
      " [-1.  -1.1]]\n"
     ]
    }
   ],
   "source": [
    "Q = np.dot(data, W_Q)\n",
    "K = np.dot(data, W_K)\n",
    "V = np.dot(data, W_V)\n",
    " \n",
    "print(Q)\n",
    "print(K)\n",
    "print(V)"
   ]
  },
  {
   "cell_type": "code",
   "execution_count": null,
   "id": "fffce039",
   "metadata": {},
   "outputs": [],
   "source": []
  },
  {
   "cell_type": "code",
   "execution_count": 13,
   "id": "4bed98df",
   "metadata": {},
   "outputs": [
    {
     "name": "stdout",
     "output_type": "stream",
     "text": [
      "(4, 4)\n"
     ]
    }
   ],
   "source": [
    "def softmax(x):\n",
    "    max_x = x.max(axis=1)\n",
    "    max_x = max_x.reshape(max_x.shape[0], 1)\n",
    "    \n",
    "    e_x = np.exp(x-max_x)\n",
    "    \n",
    "    sum_e = e_x.sum(axis=1)    \n",
    "    sum_e = sum_e.reshape(sum_e.shape[0], 1)\n",
    "    \n",
    "    return e_x / sum_e\n",
    "\n",
    "buffer = (np.dot(Q, K.T)+mask) / np.sqrt(2)\n",
    "print(buffer.shape)"
   ]
  },
  {
   "cell_type": "code",
   "execution_count": 14,
   "id": "3b2138f8",
   "metadata": {},
   "outputs": [
    {
     "data": {
      "text/plain": [
       "array([[-2.68700577e-01, -1.51850025e+09, -1.51850025e+09,\n",
       "        -1.51850025e+09],\n",
       "       [-2.33345238e+00,  4.66690476e-01, -1.51850026e+09,\n",
       "        -1.51850025e+09],\n",
       "       [-1.54149278e+00, -1.41421356e-02, -3.54967604e+00,\n",
       "        -1.51850025e+09],\n",
       "       [-2.92742207e+00,  3.60624458e-01, -6.75286976e+00,\n",
       "        -4.10121933e-01]])"
      ]
     },
     "execution_count": 14,
     "metadata": {},
     "output_type": "execute_result"
    }
   ],
   "source": [
    "buffer"
   ]
  },
  {
   "cell_type": "code",
   "execution_count": 15,
   "id": "76adc9c1",
   "metadata": {},
   "outputs": [
    {
     "name": "stdout",
     "output_type": "stream",
     "text": [
      "[[1.00000000e+00 0.00000000e+00 0.00000000e+00 0.00000000e+00]\n",
      " [5.73164569e-02 9.42683543e-01 0.00000000e+00 0.00000000e+00]\n",
      " [1.74210257e-01 8.02405097e-01 2.33846467e-02 0.00000000e+00]\n",
      " [2.48710601e-02 6.66307594e-01 5.42404741e-04 3.08278941e-01]]\n"
     ]
    }
   ],
   "source": [
    "alpha = softmax(buffer)\n",
    "print(alpha)"
   ]
  },
  {
   "cell_type": "code",
   "execution_count": 16,
   "id": "25b78a23",
   "metadata": {},
   "outputs": [
    {
     "name": "stdout",
     "output_type": "stream",
     "text": [
      "[[-0.6        -0.5       ]\n",
      " [-1.54268354  0.34841519]\n",
      " [-1.44917439  0.22684152]\n",
      " [-1.39070398 -0.08518205]]\n"
     ]
    }
   ],
   "source": [
    "context_vector = np.dot(alpha, V)\n",
    "print(context_vector)"
   ]
  },
  {
   "cell_type": "code",
   "execution_count": 17,
   "id": "d459afd8",
   "metadata": {},
   "outputs": [
    {
     "name": "stdout",
     "output_type": "stream",
     "text": [
      "[[ 0.1 -0.1  0.6]\n",
      " [ 0.9  0.3  0.1]]\n"
     ]
    }
   ],
   "source": [
    "W_O = np.array([[[ 0.1, -0.1,  0.6 ],\n",
    "               [ 0.9,  0.3,  0.1 ]]])\n",
    "W_O = W_O.reshape((2, 3))\n",
    "print(W_O)"
   ]
  },
  {
   "cell_type": "code",
   "execution_count": 18,
   "id": "ee2115d7",
   "metadata": {},
   "outputs": [
    {
     "name": "stdout",
     "output_type": "stream",
     "text": [
      "[[-0.51       -0.09       -0.41      ]\n",
      " [ 0.15930532  0.25879291 -0.89076861]\n",
      " [ 0.05923993  0.21296989 -0.84682048]\n",
      " [-0.21573424  0.11351578 -0.84294059]]\n"
     ]
    }
   ],
   "source": [
    "output = np.dot(context_vector, W_O)\n",
    "print(output)"
   ]
  },
  {
   "cell_type": "code",
   "execution_count": null,
   "id": "7d14d0e8",
   "metadata": {},
   "outputs": [],
   "source": [
    "'''keras\n",
    "[[-0.51       -0.09       -0.4100001 ]\n",
    " [ 0.15930527  0.2587929  -0.8907686 ]\n",
    " [ 0.05923991  0.2129699  -0.84682053]\n",
    " [-0.21573429  0.11351576 -0.8429406 ]], shape=(4, 3), dtype=float32)\n",
    "'''"
   ]
  }
 ],
 "metadata": {
  "kernelspec": {
   "display_name": "Python 3 (ipykernel)",
   "language": "python",
   "name": "python3"
  },
  "language_info": {
   "codemirror_mode": {
    "name": "ipython",
    "version": 3
   },
   "file_extension": ".py",
   "mimetype": "text/x-python",
   "name": "python",
   "nbconvert_exporter": "python",
   "pygments_lexer": "ipython3",
   "version": "3.9.13"
  }
 },
 "nbformat": 4,
 "nbformat_minor": 5
}
